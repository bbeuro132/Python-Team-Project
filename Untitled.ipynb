{
 "cells": [
  {
   "cell_type": "code",
   "execution_count": 95,
   "metadata": {
    "scrolled": false
   },
   "outputs": [
    {
     "name": "stdout",
     "output_type": "stream",
     "text": [
      "0\n"
     ]
    }
   ],
   "source": [
    "import csv\n",
    "f = open('210416.csv',encoding = 'cp949')\n",
    "data = csv.reader(f)\n",
    "header = next(data)\n",
    "\n",
    "local = ['서울','대전','대구','부산','광주','충청','전라','경상','강원','경기','제주',]\n",
    "\n",
    "'''for j in local :\n",
    "    count = 0\n",
    "    for i in data :\n",
    "        if j in i[2] :\n",
    "            count += 1\n",
    "    print('%s : %s'%(j,count))'''\n",
    "count = 0\n",
    "print(count)\n",
    "for i in data :\n",
    "    if '서울' in i[2] :\n",
    "        count += 1\n",
    "for x in data :\n",
    "    print(x[2])"
   ]
  },
  {
   "cell_type": "code",
   "execution_count": null,
   "metadata": {},
   "outputs": [],
   "source": []
  }
 ],
 "metadata": {
  "kernelspec": {
   "display_name": "Python 3",
   "language": "python",
   "name": "python3"
  },
  "language_info": {
   "codemirror_mode": {
    "name": "ipython",
    "version": 3
   },
   "file_extension": ".py",
   "mimetype": "text/x-python",
   "name": "python",
   "nbconvert_exporter": "python",
   "pygments_lexer": "ipython3",
   "version": "3.8.5"
  }
 },
 "nbformat": 4,
 "nbformat_minor": 4
}
