{
 "cells": [
  {
   "cell_type": "code",
   "execution_count": 103,
   "metadata": {
    "scrolled": true
   },
   "outputs": [
    {
     "name": "stdout",
     "output_type": "stream",
     "text": [
      "len_kakao=24 len_corona=0\n",
      "24\n",
      "('20.01', 0.04146562123039808)\n",
      "('20.02', 11.832780458383596)\n",
      "('20.03', 25.015078407720146)\n",
      "('20.04', 3.6904402895054287)\n",
      "('20.05', 2.6500301568154407)\n",
      "('20.06', 5.017340168878167)\n",
      "('20.07', 5.6770205066345)\n",
      "('20.08', 21.268094089264174)\n",
      "('20.09', 14.569511459589869)\n",
      "('20.10', 10.174155609167673)\n",
      "('20.11', 28.980699638118217)\n",
      "('20.12', 100.00000000000001)\n",
      "('21.01', 65.85871531966225)\n",
      "('21.02', 43.226025331724976)\n",
      "('21.03', 50.56920989143547)\n"
     ]
    }
   ],
   "source": [
    "import csv\n",
    "import matplotlib.pyplot as plt\n",
    "\n",
    "temp = [0,10,20,30,40,50,60,70,80,90,100]\n",
    "corona_file = open('kr_daily.csv')\n",
    "kakao_file = open('kakao1.csv')\n",
    "kakao_data = csv.reader(kakao_file)\n",
    "corona_data = csv.reader(corona_file)\n",
    "corona_month=[]\n",
    "corona_number=[]\n",
    "kakao_month=[]\n",
    "kakao_netflix=[]\n",
    "kakao_cgv=[]\n",
    "kakao_corona=[]\n",
    "index =0\n",
    "temp1 = 0\n",
    "max = 0\n",
    "temp2 = 0\n",
    "header_corona = next(corona_data)\n",
    "header_kakao = next(kakao_data)\n",
    "\n",
    "for item in kakao_data: #카카오 데이터 리스트화\n",
    "    kakao_month.append(item[0][2:4]+'.'+item[0][5:7])\n",
    "    kakao_netflix.append(item[1])\n",
    "    kakao_cgv.append(item[2])\n",
    "    kakao_corona.append(item[3])\n",
    "\n",
    "print(f'len_kakao={len(kakao_month)} len_corona={len(corona_month)}')\n",
    "print(len(kakao_month)-len(corona_month))\n",
    "for item in range(len(kakao_month)-len(corona_month)): #기간이 서로 다른 두 자료 간 기간을 통일\n",
    "    corona_number.append(0)\n",
    "\n",
    "for item in corona_data: #코로나 데이터 리스트화\n",
    "    if item[0][2:4]+'.'+item[0][4:6] not in corona_month:\n",
    "        temp2 = temp1\n",
    "        corona_month.append(item[0][2:4]+'.'+item[0][4:6])\n",
    "        corona_number.append(1)\n",
    "    elif item[0][2:4]+'.'+item[0][4:6] in corona_month:\n",
    "        index = corona_month.index(item[0][2:4]+'.'+item[0][4:6])\n",
    "        temp1 = int(item[1])\n",
    "        corona_number[index]=(int(item[1])-temp2) /265.28 # max = 265.28\n",
    "#         if max < int(item[1])-temp2 :\n",
    "#             max = int(item[1])-temp2\n",
    "test = dict(zip(corona_month,corona_number))\n",
    "for i in test.items():\n",
    "    print(i)\n",
    "\n",
    "#    print(kakao_month,kakao_netflix,kakao_cgv,kakao_corona)\n",
    "\n",
    "# plt.plot(temp,kakao_netflix)\n",
    "# plt.plot(list_month.keys(),list_month.values())\n",
    "# plt.rcParams['figure.figsize']=(20,8)\n",
    "# plt.rcParams['font.family'] = 'Malgun Gothic'\n",
    "# plt.xlabel('발생 시기')\n",
    "# plt.ylabel('확진자 수(%)')"
   ]
  }
 ],
 "metadata": {
  "kernelspec": {
   "display_name": "Python 3",
   "language": "python",
   "name": "python3"
  },
  "language_info": {
   "codemirror_mode": {
    "name": "ipython",
    "version": 3
   },
   "file_extension": ".py",
   "mimetype": "text/x-python",
   "name": "python",
   "nbconvert_exporter": "python",
   "pygments_lexer": "ipython3",
   "version": "3.8.5"
  }
 },
 "nbformat": 4,
 "nbformat_minor": 4
}
