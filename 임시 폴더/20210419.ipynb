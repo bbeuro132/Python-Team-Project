{
 "cells": [
  {
   "cell_type": "code",
   "execution_count": 2,
   "metadata": {
    "scrolled": true
   },
   "outputs": [
    {
     "ename": "FileNotFoundError",
     "evalue": "[Errno 2] No such file or directory: 'kr_daily.csv'",
     "output_type": "error",
     "traceback": [
      "\u001b[1;31m---------------------------------------------------------------------------\u001b[0m",
      "\u001b[1;31mFileNotFoundError\u001b[0m                         Traceback (most recent call last)",
      "\u001b[1;32m<ipython-input-2-b70c359da616>\u001b[0m in \u001b[0;36m<module>\u001b[1;34m\u001b[0m\n\u001b[0;32m      3\u001b[0m \u001b[1;33m\u001b[0m\u001b[0m\n\u001b[0;32m      4\u001b[0m \u001b[0mtemp\u001b[0m \u001b[1;33m=\u001b[0m \u001b[1;33m[\u001b[0m\u001b[1;36m0\u001b[0m\u001b[1;33m,\u001b[0m\u001b[1;36m10\u001b[0m\u001b[1;33m,\u001b[0m\u001b[1;36m20\u001b[0m\u001b[1;33m,\u001b[0m\u001b[1;36m30\u001b[0m\u001b[1;33m,\u001b[0m\u001b[1;36m40\u001b[0m\u001b[1;33m,\u001b[0m\u001b[1;36m50\u001b[0m\u001b[1;33m,\u001b[0m\u001b[1;36m60\u001b[0m\u001b[1;33m,\u001b[0m\u001b[1;36m70\u001b[0m\u001b[1;33m,\u001b[0m\u001b[1;36m80\u001b[0m\u001b[1;33m,\u001b[0m\u001b[1;36m90\u001b[0m\u001b[1;33m,\u001b[0m\u001b[1;36m100\u001b[0m\u001b[1;33m]\u001b[0m\u001b[1;33m\u001b[0m\u001b[1;33m\u001b[0m\u001b[0m\n\u001b[1;32m----> 5\u001b[1;33m \u001b[0mcorona_file\u001b[0m \u001b[1;33m=\u001b[0m \u001b[0mopen\u001b[0m\u001b[1;33m(\u001b[0m\u001b[1;34m'kr_daily.csv'\u001b[0m\u001b[1;33m)\u001b[0m\u001b[1;33m\u001b[0m\u001b[1;33m\u001b[0m\u001b[0m\n\u001b[0m\u001b[0;32m      6\u001b[0m \u001b[0mkakao_file\u001b[0m \u001b[1;33m=\u001b[0m \u001b[0mopen\u001b[0m\u001b[1;33m(\u001b[0m\u001b[1;34m'kakao1.csv'\u001b[0m\u001b[1;33m)\u001b[0m\u001b[1;33m\u001b[0m\u001b[1;33m\u001b[0m\u001b[0m\n\u001b[0;32m      7\u001b[0m \u001b[0mkakao_data\u001b[0m \u001b[1;33m=\u001b[0m \u001b[0mcsv\u001b[0m\u001b[1;33m.\u001b[0m\u001b[0mreader\u001b[0m\u001b[1;33m(\u001b[0m\u001b[0mkakao_file\u001b[0m\u001b[1;33m)\u001b[0m\u001b[1;33m\u001b[0m\u001b[1;33m\u001b[0m\u001b[0m\n",
      "\u001b[1;31mFileNotFoundError\u001b[0m: [Errno 2] No such file or directory: 'kr_daily.csv'"
     ]
    }
   ],
   "source": [
    "import csv\n",
    "import matplotlib.pyplot as plt\n",
    "\n",
    "temp = [0,10,20,30,40,50,60,70,80,90,100]\n",
    "corona_file = open('kr_daily.csv')\n",
    "kakao_file = open('kakao1.csv')\n",
    "kakao_data = csv.reader(kakao_file)\n",
    "corona_data = csv.reader(corona_file)\n",
    "corona_month=[]\n",
    "corona_number=[]\n",
    "kakao_month=[]\n",
    "kakao_netflix=[]\n",
    "kakao_cgv=[]\n",
    "kakao_corona=[]\n",
    "index =0\n",
    "temp1 = 0\n",
    "max = 0\n",
    "temp2 = 0\n",
    "header_corona = next(corona_data)\n",
    "header_kakao = next(kakao_data)\n",
    "\n",
    "for item in kakao_data: #카카오 데이터 리스트화\n",
    "    kakao_month.append(item[0][2:4]+'.'+item[0][5:7])\n",
    "    kakao_netflix.append(int(item[1]))\n",
    "    kakao_cgv.append(int(item[2]))\n",
    "    kakao_corona.append(int(item[3]))\n",
    "\n",
    "for item in range(9): #기간이 서로 다른 두 자료 간 기간을 통일\n",
    "    #corona_month.append(kakao_data[0][2:4]+'.'+kakao_data[0][5:7])\n",
    "    corona_number.append(0)\n",
    "\n",
    "for item in corona_data: #코로나 데이터 리스트화\n",
    "    if item[0][2:4]+'.'+item[0][4:6] not in corona_month:\n",
    "        temp2 = temp1\n",
    "        corona_month.append(item[0][2:4]+'.'+item[0][4:6])\n",
    "        corona_number.append(1)\n",
    "    elif item[0][2:4]+'.'+item[0][4:6] in corona_month:\n",
    "        index = corona_month.index(item[0][2:4]+'.'+item[0][4:6])\n",
    "        temp1 = int(item[1])\n",
    "        corona_number[index+5]=(int(item[1])-temp2) /265.28 # max = 265.28\n",
    "#         if max < int(item[1])-temp2 :\n",
    "#             max = int(item[1])-temp2\n",
    "\n",
    "print(corona_number)\n",
    "\n",
    "#print(kakao_month,kakao_netflix)\n",
    "#print(f'{len(kakao_month)},{len(corona_number)}')\n",
    "\n"
   ]
  },
  {
   "cell_type": "code",
   "execution_count": 1,
   "metadata": {
    "scrolled": true
   },
   "outputs": [
    {
     "ename": "FileNotFoundError",
     "evalue": "[Errno 2] No such file or directory: 'Ko2019.csv'",
     "output_type": "error",
     "traceback": [
      "\u001b[1;31m---------------------------------------------------------------------------\u001b[0m",
      "\u001b[1;31mFileNotFoundError\u001b[0m                         Traceback (most recent call last)",
      "\u001b[1;32m<ipython-input-1-53c5a898b180>\u001b[0m in \u001b[0;36m<module>\u001b[1;34m\u001b[0m\n\u001b[0;32m      1\u001b[0m \u001b[1;32mimport\u001b[0m \u001b[0mcsv\u001b[0m\u001b[1;33m\u001b[0m\u001b[1;33m\u001b[0m\u001b[0m\n\u001b[0;32m      2\u001b[0m \u001b[1;32mimport\u001b[0m \u001b[0mmatplotlib\u001b[0m\u001b[1;33m.\u001b[0m\u001b[0mpyplot\u001b[0m \u001b[1;32mas\u001b[0m \u001b[0mplt\u001b[0m\u001b[1;33m\u001b[0m\u001b[1;33m\u001b[0m\u001b[0m\n\u001b[1;32m----> 3\u001b[1;33m \u001b[0ms\u001b[0m \u001b[1;33m=\u001b[0m \u001b[0mopen\u001b[0m\u001b[1;33m(\u001b[0m\u001b[1;34m'Ko2019.csv'\u001b[0m\u001b[1;33m,\u001b[0m\u001b[0mencoding\u001b[0m \u001b[1;33m=\u001b[0m \u001b[1;34m'cp949'\u001b[0m\u001b[1;33m)\u001b[0m\u001b[1;33m\u001b[0m\u001b[1;33m\u001b[0m\u001b[0m\n\u001b[0m\u001b[0;32m      4\u001b[0m \u001b[0md\u001b[0m \u001b[1;33m=\u001b[0m \u001b[0mopen\u001b[0m\u001b[1;33m(\u001b[0m\u001b[1;34m'Ko2020.csv'\u001b[0m\u001b[1;33m,\u001b[0m\u001b[0mencoding\u001b[0m \u001b[1;33m=\u001b[0m \u001b[1;34m'cp949'\u001b[0m\u001b[1;33m)\u001b[0m\u001b[1;33m\u001b[0m\u001b[1;33m\u001b[0m\u001b[0m\n\u001b[0;32m      5\u001b[0m \u001b[0mf\u001b[0m \u001b[1;33m=\u001b[0m \u001b[0mopen\u001b[0m\u001b[1;33m(\u001b[0m\u001b[1;34m'Ko2021.csv'\u001b[0m\u001b[1;33m,\u001b[0m\u001b[0mencoding\u001b[0m \u001b[1;33m=\u001b[0m \u001b[1;34m'cp949'\u001b[0m\u001b[1;33m)\u001b[0m\u001b[1;33m\u001b[0m\u001b[1;33m\u001b[0m\u001b[0m\n",
      "\u001b[1;31mFileNotFoundError\u001b[0m: [Errno 2] No such file or directory: 'Ko2019.csv'"
     ]
    }
   ],
   "source": [
    "import csv\n",
    "import matplotlib.pyplot as plt\n",
    "s = open('Ko2019.csv',encoding = 'cp949')\n",
    "d = open('Ko2020.csv',encoding = 'cp949')\n",
    "f = open('Ko2021.csv',encoding = 'cp949')\n",
    "maxx = 0\n",
    "data2019 = csv.reader(s)\n",
    "data2020 = csv.reader(d)\n",
    "data2021 = csv.reader(f)\n",
    "for x in range(4) :\n",
    "    next(data2019)\n",
    "for x in range(6) :\n",
    "    next(data2019)\n",
    "    next(data2020)\n",
    "    next(data2021)\n",
    "\n",
    "month = []\n",
    "score = []\n",
    "for i in data2019 :\n",
    "    month.append(i[0][2:])\n",
    "    score.append(int(i[3].replace(',',''))/1519598344.60)\n",
    "    if maxx <=int(i[3].replace(',','')):\n",
    "        maxx = int(i[3].replace(',',''))\n",
    "month.pop()\n",
    "score.pop()\n",
    "for i in data2020 :\n",
    "    month.append(i[0][2:])\n",
    "    score.append(int(i[3].replace(',',''))/1519598344.60)\n",
    "    if maxx <=int(i[3].replace(',','')):\n",
    "        maxx = int(i[3].replace(',',''))\n",
    "month.pop()\n",
    "score.pop()\n",
    "for i in data2021 :\n",
    "    month.append(i[0][2:])\n",
    "    score.append(int(i[3].replace(',',''))/1519598344.60)    \n",
    "    if maxx <= int(i[3].replace(',','')):\n",
    "        maxx = int(i[3].replace(',',''))\n",
    "plt.figure(figsize = (25,8))\n",
    "month.pop()\n",
    "score.pop()\n",
    "print(score)\n",
    "print(month)\n",
    "print('maxx = ',maxx)\n",
    "print(len(score))\n",
    "plt.plot(kakao_month,score)\n",
    "plt.rcParams['font.family'] = 'Malgun Gothic'\n",
    "\n",
    "plt.plot(kakao_month,kakao_netflix,color='yellow')\n",
    "plt.plot(kakao_month,kakao_cgv,color='black')\n",
    "plt.plot(kakao_month,kakao_corona,color='red')\n",
    "plt.plot(kakao_month,corona_number)\n",
    "\n",
    "\n",
    "plt.rcParams['figure.figsize']=(20,8)\n",
    "#plt.rcParams['font.family'] = 'Malgun Gothic'\n",
    "plt.xlabel('발생 시기')\n",
    "plt.ylabel('백분율(%)')"
   ]
  }
 ],
 "metadata": {
  "kernelspec": {
   "display_name": "Python 3",
   "language": "python",
   "name": "python3"
  },
  "language_info": {
   "codemirror_mode": {
    "name": "ipython",
    "version": 3
   },
   "file_extension": ".py",
   "mimetype": "text/x-python",
   "name": "python",
   "nbconvert_exporter": "python",
   "pygments_lexer": "ipython3",
   "version": "3.8.5"
  }
 },
 "nbformat": 4,
 "nbformat_minor": 4
}
